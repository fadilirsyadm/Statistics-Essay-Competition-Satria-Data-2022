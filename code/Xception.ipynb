{
  "nbformat": 4,
  "nbformat_minor": 0,
  "metadata": {
    "colab": {
      "provenance": [],
      "collapsed_sections": []
    },
    "kernelspec": {
      "name": "python3",
      "display_name": "Python 3"
    },
    "language_info": {
      "name": "python"
    }
  },
  "cells": [
    {
      "cell_type": "markdown",
      "source": [
        "#**Xception**"
      ],
      "metadata": {
        "id": "nLMVopqLo_XF"
      }
    },
    {
      "cell_type": "markdown",
      "source": [
        "###📥 **Import Libraries**"
      ],
      "metadata": {
        "id": "ajvKOltvUHMW"
      }
    },
    {
      "cell_type": "code",
      "execution_count": null,
      "metadata": {
        "id": "lyM8QlCwKkLF",
        "colab": {
          "base_uri": "https://localhost:8080/"
        },
        "outputId": "ba872881-bfd5-4f9a-d8a6-99a89a05de8e"
      },
      "outputs": [
        {
          "output_type": "stream",
          "name": "stdout",
          "text": [
            "Mounted at /content/drive\n"
          ]
        }
      ],
      "source": [
        "# mount drive\n",
        "from google.colab import drive\n",
        "drive.mount('/content/drive')\n",
        "\n",
        "# common library\n",
        "import numpy as np\n",
        "import seaborn as sns\n",
        "import matplotlib.pyplot as plt\n",
        "\n",
        "# tensor computation\n",
        "from tensorflow.random import set_seed\n",
        "from keras.preprocessing.image import ImageDataGenerator\n",
        "from keras.layers import Input, Conv2D, MaxPooling2D, Flatten, Dense\n",
        "from keras.utils import plot_model\n",
        "from keras.models import Model, load_model\n",
        "from keras.applications import Xception"
      ]
    },
    {
      "cell_type": "markdown",
      "source": [
        "###🔒 **Inisialisasi Bilangan Random**"
      ],
      "metadata": {
        "id": "xNM19Zd_UbBd"
      }
    },
    {
      "cell_type": "code",
      "source": [
        "def set_random(seed):\n",
        "  np.random.seed(seed)\n",
        "  set_seed(seed)\n",
        "\n",
        "set_random(2022)"
      ],
      "metadata": {
        "id": "D35kwqB-Mb_o"
      },
      "execution_count": null,
      "outputs": []
    },
    {
      "cell_type": "markdown",
      "source": [
        "###🪆 **Data Augmentation**"
      ],
      "metadata": {
        "id": "lq2Mgr_ZUeKK"
      }
    },
    {
      "cell_type": "code",
      "source": [
        "# file directory\n",
        "file_dir = '/content/drive/Shareddrives/Teman Tapi Mining/Satria Data/2022/'\n",
        "data_dir = 'data/Garbage classification/Garbage classification/'\n",
        "dir = file_dir + data_dir\n",
        "\n",
        "# train generator\n",
        "train = ImageDataGenerator(\n",
        "    horizontal_flip = True, vertical_flip = True,\n",
        "    validation_split = 0.1, rescale = 1./255,\n",
        "    shear_range = 0.1, zoom_range = 0.1,\n",
        "    width_shift_range = 0.1, height_shift_range = 0.1\n",
        "    )\n",
        "train_generator = train.flow_from_directory(\n",
        "    dir, target_size = (512, 384), batch_size = 32,\n",
        "    class_mode = 'categorical', subset = 'training'\n",
        "    )\n",
        "\n",
        "# test generator\n",
        "test = ImageDataGenerator(rescale = 1./255, validation_split = 0.1)\n",
        "test_generator = test.flow_from_directory(\n",
        "    dir, target_size = (512, 384), batch_size = 32,\n",
        "    class_mode = 'categorical', subset = 'validation'\n",
        "    )"
      ],
      "metadata": {
        "id": "FUclUA-hMxDp",
        "colab": {
          "base_uri": "https://localhost:8080/"
        },
        "outputId": "3fab867b-5c08-4098-ba6a-36f06fee2767"
      },
      "execution_count": null,
      "outputs": [
        {
          "output_type": "stream",
          "name": "stdout",
          "text": [
            "Found 2276 images belonging to 6 classes.\n",
            "Found 251 images belonging to 6 classes.\n"
          ]
        }
      ]
    },
    {
      "cell_type": "markdown",
      "source": [
        "###🎯 **Modeling**"
      ],
      "metadata": {
        "id": "MIDBW-1CWGmv"
      }
    },
    {
      "cell_type": "code",
      "source": [
        "pretrained = Xception(input_shape = (512, 384, 3), include_top = False, weights = 'imagenet')\n",
        "pretrained.trainable = False\n",
        "layers = Flatten()(pretrained.output)\n",
        "layers = Dense(64, activation = 'relu')(layers)\n",
        "outputs = Dense(6, activation = 'softmax')(layers)\n",
        "model = Model(inputs = [pretrained.input], outputs = [outputs])\n",
        "\n",
        "model.compile(loss = 'categorical_crossentropy', optimizer = 'adam', metrics = ['accuracy'])\n",
        "model.summary()"
      ],
      "metadata": {
        "id": "QTmcSnufTg7O"
      },
      "execution_count": null,
      "outputs": []
    },
    {
      "cell_type": "code",
      "source": [
        "plot_model(model, show_shapes = True)"
      ],
      "metadata": {
        "id": "aqgf_O-UTjMR"
      },
      "execution_count": null,
      "outputs": []
    },
    {
      "cell_type": "code",
      "source": [
        "# define parameters\n",
        "batch_size = 32\n",
        "num_epochs = 100\n",
        "\n",
        "# train & test steps\n",
        "step_size_train = train_generator.n//train_generator.batch_size\n",
        "step_size_test = test_generator.n//test_generator.batch_size"
      ],
      "metadata": {
        "id": "ZqVdJNtPTk_6"
      },
      "execution_count": null,
      "outputs": []
    },
    {
      "cell_type": "code",
      "source": [
        "history = model.fit(\n",
        "    train_generator, epochs = num_epochs, steps_per_epoch = step_size_train,\n",
        "    validation_data = test_generator, validation_steps = step_size_test\n",
        "    )"
      ],
      "metadata": {
        "id": "OQQESbZSTnPp",
        "colab": {
          "base_uri": "https://localhost:8080/"
        },
        "outputId": "9bcbe799-3542-424d-84f3-d6b25942b15f"
      },
      "execution_count": null,
      "outputs": [
        {
          "output_type": "stream",
          "name": "stdout",
          "text": [
            "Epoch 1/100\n",
            "71/71 [==============================] - 1112s 15s/step - loss: 6.7628 - accuracy: 0.5651 - val_loss: 2.0869 - val_accuracy: 0.6562\n",
            "Epoch 2/100\n",
            "71/71 [==============================] - 92s 1s/step - loss: 1.0499 - accuracy: 0.6208 - val_loss: 1.0135 - val_accuracy: 0.6161\n",
            "Epoch 3/100\n",
            "71/71 [==============================] - 92s 1s/step - loss: 0.7803 - accuracy: 0.7077 - val_loss: 1.0193 - val_accuracy: 0.6786\n",
            "Epoch 4/100\n",
            "71/71 [==============================] - 91s 1s/step - loss: 0.7491 - accuracy: 0.7277 - val_loss: 0.9760 - val_accuracy: 0.6518\n",
            "Epoch 5/100\n",
            "71/71 [==============================] - 91s 1s/step - loss: 0.6424 - accuracy: 0.7714 - val_loss: 0.8582 - val_accuracy: 0.6830\n",
            "Epoch 6/100\n",
            "71/71 [==============================] - 91s 1s/step - loss: 0.6581 - accuracy: 0.7718 - val_loss: 0.8373 - val_accuracy: 0.7054\n",
            "Epoch 7/100\n",
            "71/71 [==============================] - 90s 1s/step - loss: 0.5710 - accuracy: 0.7857 - val_loss: 1.0460 - val_accuracy: 0.7188\n",
            "Epoch 8/100\n",
            "71/71 [==============================] - 89s 1s/step - loss: 0.5997 - accuracy: 0.7763 - val_loss: 0.8745 - val_accuracy: 0.7188\n",
            "Epoch 9/100\n",
            "71/71 [==============================] - 91s 1s/step - loss: 0.4798 - accuracy: 0.8347 - val_loss: 0.8370 - val_accuracy: 0.7812\n",
            "Epoch 10/100\n",
            "71/71 [==============================] - 91s 1s/step - loss: 0.5152 - accuracy: 0.8226 - val_loss: 0.7473 - val_accuracy: 0.8036\n",
            "Epoch 11/100\n",
            "71/71 [==============================] - 91s 1s/step - loss: 0.4306 - accuracy: 0.8471 - val_loss: 0.8502 - val_accuracy: 0.7768\n",
            "Epoch 12/100\n",
            "71/71 [==============================] - 92s 1s/step - loss: 0.4699 - accuracy: 0.8476 - val_loss: 0.6522 - val_accuracy: 0.7991\n",
            "Epoch 13/100\n",
            "71/71 [==============================] - 89s 1s/step - loss: 0.4245 - accuracy: 0.8516 - val_loss: 0.7962 - val_accuracy: 0.7455\n",
            "Epoch 14/100\n",
            "71/71 [==============================] - 90s 1s/step - loss: 0.4009 - accuracy: 0.8592 - val_loss: 0.8361 - val_accuracy: 0.8214\n",
            "Epoch 15/100\n",
            "71/71 [==============================] - 92s 1s/step - loss: 0.3605 - accuracy: 0.8685 - val_loss: 0.9076 - val_accuracy: 0.8036\n",
            "Epoch 16/100\n",
            "71/71 [==============================] - 91s 1s/step - loss: 0.3644 - accuracy: 0.8708 - val_loss: 0.8015 - val_accuracy: 0.7723\n",
            "Epoch 17/100\n",
            "71/71 [==============================] - 90s 1s/step - loss: 0.3239 - accuracy: 0.8850 - val_loss: 0.8799 - val_accuracy: 0.8170\n",
            "Epoch 18/100\n",
            "71/71 [==============================] - 91s 1s/step - loss: 0.3214 - accuracy: 0.8828 - val_loss: 0.6954 - val_accuracy: 0.7991\n",
            "Epoch 19/100\n",
            "71/71 [==============================] - 90s 1s/step - loss: 0.3439 - accuracy: 0.8730 - val_loss: 0.8116 - val_accuracy: 0.7902\n",
            "Epoch 20/100\n",
            "71/71 [==============================] - 90s 1s/step - loss: 0.3361 - accuracy: 0.8922 - val_loss: 0.7462 - val_accuracy: 0.8125\n",
            "Epoch 21/100\n",
            "71/71 [==============================] - 92s 1s/step - loss: 0.2774 - accuracy: 0.8881 - val_loss: 0.7106 - val_accuracy: 0.7991\n",
            "Epoch 22/100\n",
            "71/71 [==============================] - 92s 1s/step - loss: 0.2984 - accuracy: 0.8988 - val_loss: 0.7463 - val_accuracy: 0.8259\n",
            "Epoch 23/100\n",
            "71/71 [==============================] - 90s 1s/step - loss: 0.2329 - accuracy: 0.9207 - val_loss: 1.0233 - val_accuracy: 0.8259\n",
            "Epoch 24/100\n",
            "71/71 [==============================] - 91s 1s/step - loss: 0.2337 - accuracy: 0.9198 - val_loss: 0.7969 - val_accuracy: 0.8170\n",
            "Epoch 25/100\n",
            "71/71 [==============================] - 94s 1s/step - loss: 0.2714 - accuracy: 0.9069 - val_loss: 0.9523 - val_accuracy: 0.8214\n",
            "Epoch 26/100\n",
            "71/71 [==============================] - 91s 1s/step - loss: 0.2935 - accuracy: 0.9078 - val_loss: 0.6381 - val_accuracy: 0.8259\n",
            "Epoch 27/100\n",
            "71/71 [==============================] - 90s 1s/step - loss: 0.2677 - accuracy: 0.9046 - val_loss: 0.6212 - val_accuracy: 0.8393\n",
            "Epoch 28/100\n",
            "71/71 [==============================] - 92s 1s/step - loss: 0.2648 - accuracy: 0.9104 - val_loss: 0.7590 - val_accuracy: 0.8393\n",
            "Epoch 29/100\n",
            "71/71 [==============================] - 90s 1s/step - loss: 0.2361 - accuracy: 0.9216 - val_loss: 0.8370 - val_accuracy: 0.8616\n",
            "Epoch 30/100\n",
            "71/71 [==============================] - 91s 1s/step - loss: 0.2940 - accuracy: 0.9118 - val_loss: 0.7882 - val_accuracy: 0.8170\n",
            "Epoch 31/100\n",
            "71/71 [==============================] - 93s 1s/step - loss: 0.2792 - accuracy: 0.9131 - val_loss: 0.9904 - val_accuracy: 0.8304\n",
            "Epoch 32/100\n",
            "71/71 [==============================] - 93s 1s/step - loss: 0.2584 - accuracy: 0.9131 - val_loss: 0.6496 - val_accuracy: 0.8259\n",
            "Epoch 33/100\n",
            "71/71 [==============================] - 91s 1s/step - loss: 0.2809 - accuracy: 0.8966 - val_loss: 0.7463 - val_accuracy: 0.8259\n",
            "Epoch 34/100\n",
            "71/71 [==============================] - 92s 1s/step - loss: 0.2488 - accuracy: 0.9118 - val_loss: 0.7600 - val_accuracy: 0.8348\n",
            "Epoch 35/100\n",
            "71/71 [==============================] - 93s 1s/step - loss: 0.2037 - accuracy: 0.9296 - val_loss: 0.7123 - val_accuracy: 0.8571\n",
            "Epoch 36/100\n",
            "71/71 [==============================] - 91s 1s/step - loss: 0.2022 - accuracy: 0.9242 - val_loss: 0.5592 - val_accuracy: 0.8571\n",
            "Epoch 37/100\n",
            "71/71 [==============================] - 93s 1s/step - loss: 0.2205 - accuracy: 0.9216 - val_loss: 0.9375 - val_accuracy: 0.8036\n",
            "Epoch 38/100\n",
            "71/71 [==============================] - 91s 1s/step - loss: 0.2343 - accuracy: 0.9193 - val_loss: 0.7694 - val_accuracy: 0.8438\n",
            "Epoch 39/100\n",
            "71/71 [==============================] - 93s 1s/step - loss: 0.1881 - accuracy: 0.9367 - val_loss: 0.7016 - val_accuracy: 0.8348\n",
            "Epoch 40/100\n",
            "71/71 [==============================] - 93s 1s/step - loss: 0.1969 - accuracy: 0.9389 - val_loss: 0.8468 - val_accuracy: 0.8482\n",
            "Epoch 41/100\n",
            "71/71 [==============================] - 91s 1s/step - loss: 0.2415 - accuracy: 0.9247 - val_loss: 0.7586 - val_accuracy: 0.8571\n",
            "Epoch 42/100\n",
            "71/71 [==============================] - 92s 1s/step - loss: 0.1704 - accuracy: 0.9403 - val_loss: 0.7048 - val_accuracy: 0.8795\n",
            "Epoch 43/100\n",
            "71/71 [==============================] - 92s 1s/step - loss: 0.1716 - accuracy: 0.9407 - val_loss: 0.6374 - val_accuracy: 0.8304\n",
            "Epoch 44/100\n",
            "71/71 [==============================] - 91s 1s/step - loss: 0.1819 - accuracy: 0.9376 - val_loss: 0.8334 - val_accuracy: 0.8482\n",
            "Epoch 45/100\n",
            "71/71 [==============================] - 90s 1s/step - loss: 0.1570 - accuracy: 0.9474 - val_loss: 0.7976 - val_accuracy: 0.8348\n",
            "Epoch 46/100\n",
            "71/71 [==============================] - 92s 1s/step - loss: 0.1389 - accuracy: 0.9545 - val_loss: 1.0255 - val_accuracy: 0.8214\n",
            "Epoch 47/100\n",
            "71/71 [==============================] - 92s 1s/step - loss: 0.1772 - accuracy: 0.9470 - val_loss: 0.8356 - val_accuracy: 0.8527\n",
            "Epoch 48/100\n",
            "71/71 [==============================] - 91s 1s/step - loss: 0.1466 - accuracy: 0.9568 - val_loss: 1.0193 - val_accuracy: 0.8661\n",
            "Epoch 49/100\n",
            "71/71 [==============================] - 93s 1s/step - loss: 0.1894 - accuracy: 0.9474 - val_loss: 1.0035 - val_accuracy: 0.8393\n",
            "Epoch 50/100\n",
            "71/71 [==============================] - 93s 1s/step - loss: 0.1842 - accuracy: 0.9407 - val_loss: 0.9015 - val_accuracy: 0.8527\n",
            "Epoch 51/100\n",
            "71/71 [==============================] - 92s 1s/step - loss: 0.2143 - accuracy: 0.9367 - val_loss: 0.8185 - val_accuracy: 0.8304\n",
            "Epoch 52/100\n",
            "71/71 [==============================] - 93s 1s/step - loss: 0.1744 - accuracy: 0.9425 - val_loss: 0.9704 - val_accuracy: 0.8036\n",
            "Epoch 53/100\n",
            "71/71 [==============================] - 92s 1s/step - loss: 0.1431 - accuracy: 0.9541 - val_loss: 0.8524 - val_accuracy: 0.8393\n",
            "Epoch 54/100\n",
            "71/71 [==============================] - 92s 1s/step - loss: 0.1215 - accuracy: 0.9572 - val_loss: 0.9141 - val_accuracy: 0.8259\n",
            "Epoch 55/100\n",
            "71/71 [==============================] - 93s 1s/step - loss: 0.1593 - accuracy: 0.9501 - val_loss: 0.7079 - val_accuracy: 0.8705\n",
            "Epoch 56/100\n",
            "71/71 [==============================] - 93s 1s/step - loss: 0.1719 - accuracy: 0.9470 - val_loss: 0.6258 - val_accuracy: 0.8884\n",
            "Epoch 57/100\n",
            "71/71 [==============================] - 92s 1s/step - loss: 0.1310 - accuracy: 0.9577 - val_loss: 0.8961 - val_accuracy: 0.8616\n",
            "Epoch 58/100\n",
            "71/71 [==============================] - 92s 1s/step - loss: 0.1176 - accuracy: 0.9621 - val_loss: 1.0806 - val_accuracy: 0.8527\n",
            "Epoch 59/100\n",
            "71/71 [==============================] - 93s 1s/step - loss: 0.1334 - accuracy: 0.9550 - val_loss: 0.7765 - val_accuracy: 0.8571\n",
            "Epoch 60/100\n",
            "71/71 [==============================] - 93s 1s/step - loss: 0.1618 - accuracy: 0.9568 - val_loss: 0.7333 - val_accuracy: 0.8571\n",
            "Epoch 61/100\n",
            "71/71 [==============================] - 92s 1s/step - loss: 0.1768 - accuracy: 0.9425 - val_loss: 0.8174 - val_accuracy: 0.8527\n",
            "Epoch 62/100\n",
            "71/71 [==============================] - 93s 1s/step - loss: 0.1228 - accuracy: 0.9594 - val_loss: 0.9378 - val_accuracy: 0.8571\n",
            "Epoch 63/100\n",
            "71/71 [==============================] - 93s 1s/step - loss: 0.1438 - accuracy: 0.9599 - val_loss: 0.8969 - val_accuracy: 0.8259\n",
            "Epoch 64/100\n",
            "71/71 [==============================] - 92s 1s/step - loss: 0.1466 - accuracy: 0.9510 - val_loss: 1.0849 - val_accuracy: 0.8080\n",
            "Epoch 65/100\n",
            "71/71 [==============================] - 93s 1s/step - loss: 0.1458 - accuracy: 0.9523 - val_loss: 0.7151 - val_accuracy: 0.8616\n",
            "Epoch 66/100\n",
            "71/71 [==============================] - 92s 1s/step - loss: 0.1103 - accuracy: 0.9657 - val_loss: 0.8889 - val_accuracy: 0.8348\n",
            "Epoch 67/100\n",
            "71/71 [==============================] - 92s 1s/step - loss: 0.1009 - accuracy: 0.9657 - val_loss: 0.6995 - val_accuracy: 0.8616\n",
            "Epoch 68/100\n",
            "71/71 [==============================] - 92s 1s/step - loss: 0.1222 - accuracy: 0.9590 - val_loss: 0.6511 - val_accuracy: 0.8348\n",
            "Epoch 69/100\n",
            "71/71 [==============================] - 91s 1s/step - loss: 0.2099 - accuracy: 0.9305 - val_loss: 1.3319 - val_accuracy: 0.7768\n",
            "Epoch 70/100\n",
            "71/71 [==============================] - 93s 1s/step - loss: 0.1076 - accuracy: 0.9666 - val_loss: 0.8429 - val_accuracy: 0.8393\n",
            "Epoch 71/100\n",
            "71/71 [==============================] - 91s 1s/step - loss: 0.1146 - accuracy: 0.9679 - val_loss: 1.0085 - val_accuracy: 0.8348\n",
            "Epoch 72/100\n",
            "71/71 [==============================] - 92s 1s/step - loss: 0.1109 - accuracy: 0.9657 - val_loss: 0.7547 - val_accuracy: 0.8571\n",
            "Epoch 73/100\n",
            "71/71 [==============================] - 94s 1s/step - loss: 0.1030 - accuracy: 0.9612 - val_loss: 0.8383 - val_accuracy: 0.8482\n",
            "Epoch 74/100\n",
            "71/71 [==============================] - 92s 1s/step - loss: 0.0783 - accuracy: 0.9710 - val_loss: 0.9447 - val_accuracy: 0.8393\n",
            "Epoch 75/100\n",
            "71/71 [==============================] - 92s 1s/step - loss: 0.0975 - accuracy: 0.9701 - val_loss: 0.7087 - val_accuracy: 0.8393\n",
            "Epoch 76/100\n",
            "71/71 [==============================] - 91s 1s/step - loss: 0.1050 - accuracy: 0.9630 - val_loss: 0.9310 - val_accuracy: 0.8482\n",
            "Epoch 77/100\n",
            "71/71 [==============================] - 92s 1s/step - loss: 0.1091 - accuracy: 0.9635 - val_loss: 0.8902 - val_accuracy: 0.8348\n",
            "Epoch 78/100\n",
            "71/71 [==============================] - 92s 1s/step - loss: 0.1083 - accuracy: 0.9697 - val_loss: 1.1020 - val_accuracy: 0.8170\n",
            "Epoch 79/100\n",
            "71/71 [==============================] - 91s 1s/step - loss: 0.1146 - accuracy: 0.9621 - val_loss: 0.7807 - val_accuracy: 0.8393\n",
            "Epoch 80/100\n",
            "71/71 [==============================] - 92s 1s/step - loss: 0.1151 - accuracy: 0.9648 - val_loss: 1.0915 - val_accuracy: 0.7946\n",
            "Epoch 81/100\n",
            "71/71 [==============================] - 91s 1s/step - loss: 0.0934 - accuracy: 0.9715 - val_loss: 1.0081 - val_accuracy: 0.8393\n",
            "Epoch 82/100\n",
            "71/71 [==============================] - 92s 1s/step - loss: 0.1090 - accuracy: 0.9693 - val_loss: 1.0108 - val_accuracy: 0.8214\n",
            "Epoch 83/100\n",
            "71/71 [==============================] - 92s 1s/step - loss: 0.0808 - accuracy: 0.9724 - val_loss: 0.8135 - val_accuracy: 0.8527\n",
            "Epoch 84/100\n",
            "71/71 [==============================] - 91s 1s/step - loss: 0.0734 - accuracy: 0.9764 - val_loss: 0.9078 - val_accuracy: 0.8438\n",
            "Epoch 85/100\n",
            "71/71 [==============================] - 92s 1s/step - loss: 0.1012 - accuracy: 0.9706 - val_loss: 0.7669 - val_accuracy: 0.8661\n",
            "Epoch 86/100\n",
            "71/71 [==============================] - 90s 1s/step - loss: 0.1227 - accuracy: 0.9621 - val_loss: 0.6761 - val_accuracy: 0.8482\n",
            "Epoch 87/100\n",
            "71/71 [==============================] - 91s 1s/step - loss: 0.1118 - accuracy: 0.9648 - val_loss: 0.6950 - val_accuracy: 0.8750\n",
            "Epoch 88/100\n",
            "71/71 [==============================] - 91s 1s/step - loss: 0.0958 - accuracy: 0.9661 - val_loss: 1.0288 - val_accuracy: 0.8438\n",
            "Epoch 89/100\n",
            "71/71 [==============================] - 91s 1s/step - loss: 0.1234 - accuracy: 0.9630 - val_loss: 0.9754 - val_accuracy: 0.8438\n",
            "Epoch 90/100\n",
            "71/71 [==============================] - 91s 1s/step - loss: 0.0848 - accuracy: 0.9750 - val_loss: 1.0505 - val_accuracy: 0.8482\n",
            "Epoch 91/100\n",
            "71/71 [==============================] - 91s 1s/step - loss: 0.0736 - accuracy: 0.9755 - val_loss: 0.6556 - val_accuracy: 0.8705\n",
            "Epoch 92/100\n",
            "71/71 [==============================] - 91s 1s/step - loss: 0.0621 - accuracy: 0.9791 - val_loss: 1.1301 - val_accuracy: 0.8304\n",
            "Epoch 93/100\n",
            "71/71 [==============================] - 91s 1s/step - loss: 0.0969 - accuracy: 0.9688 - val_loss: 0.7497 - val_accuracy: 0.8482\n",
            "Epoch 94/100\n",
            "71/71 [==============================] - 91s 1s/step - loss: 0.1019 - accuracy: 0.9684 - val_loss: 0.6246 - val_accuracy: 0.8839\n",
            "Epoch 95/100\n",
            "71/71 [==============================] - 90s 1s/step - loss: 0.0853 - accuracy: 0.9746 - val_loss: 0.7023 - val_accuracy: 0.8393\n",
            "Epoch 96/100\n",
            "71/71 [==============================] - 91s 1s/step - loss: 0.0939 - accuracy: 0.9719 - val_loss: 0.6816 - val_accuracy: 0.8527\n",
            "Epoch 97/100\n",
            "71/71 [==============================] - 91s 1s/step - loss: 0.0769 - accuracy: 0.9750 - val_loss: 0.8933 - val_accuracy: 0.8304\n",
            "Epoch 98/100\n",
            "71/71 [==============================] - 92s 1s/step - loss: 0.0735 - accuracy: 0.9768 - val_loss: 0.7142 - val_accuracy: 0.8482\n",
            "Epoch 99/100\n",
            "71/71 [==============================] - 91s 1s/step - loss: 0.0767 - accuracy: 0.9759 - val_loss: 0.9921 - val_accuracy: 0.8259\n",
            "Epoch 100/100\n",
            "71/71 [==============================] - 91s 1s/step - loss: 0.1074 - accuracy: 0.9710 - val_loss: 0.6881 - val_accuracy: 0.8616\n"
          ]
        }
      ]
    },
    {
      "cell_type": "code",
      "source": [
        "sns.set_style(style = 'whitegrid')\n",
        "\n",
        "fig, axes = plt.subplots(1, 2, figsize=(20, 6))\n",
        "graph = ['accuracy', 'loss']\n",
        "title = [\"Akurasi dan Validasi Akurasi\", \"Loss dan Validasi Loss\"]\n",
        "\n",
        "def draw_graph(i, text, title):\n",
        "  axes[i].set_title(title)\n",
        "  fig = sns.lineplot(ax = axes[i], x = history.epoch, y = history.history[text], marker = 'o')\n",
        "  fig = sns.lineplot(ax = axes[i], x = history.epoch, y = history.history[f'val_{text}'], marker = 'o')\n",
        "  axes[i].legend([text, f'val_{text}'])\n",
        "\n",
        "def text_graph(i, text):\n",
        "  for j, (x, y) in enumerate(zip(history.epoch, history.history[f'{text}'])):\n",
        "    if j == 4:\n",
        "      axes[i].text(x = x - 0.2, y = y - 0.009, s = round(y, 3), color = 'red') \n",
        "  for j, (x, y) in enumerate(zip(history.epoch, history.history[f'val_{text}'])):\n",
        "    if j == 4:\n",
        "      axes[i].text(x = x - 0.2, y = y - 0.009, s = round(y, 3), color = 'red') \n",
        "\n",
        "for i, (val, tit) in enumerate(zip(graph, title)):\n",
        "    draw_graph(i, val, tit)\n",
        "    text_graph(i, val)"
      ],
      "metadata": {
        "id": "nXcpGRq6TqS6",
        "colab": {
          "base_uri": "https://localhost:8080/",
          "height": 322
        },
        "outputId": "1a496b1d-bb9e-480c-8b0c-d3834114249d"
      },
      "execution_count": null,
      "outputs": [
        {
          "output_type": "display_data",
          "data": {
            "text/plain": [
              "<Figure size 1440x432 with 2 Axes>"
            ],
            "image/png": "[encoded data removed]"
          },
          "metadata": {}
        }
      ]
    },
    {
      "cell_type": "code",
      "source": [
        "# save & model\n",
        "model.save(file_dir + 'model/Xception.h5')\n",
        "model = load_model(file_dir + 'model/Xception.h5')"
      ],
      "metadata": {
        "id": "FNp7mtfvU5iZ"
      },
      "execution_count": null,
      "outputs": []
    },
    {
      "cell_type": "code",
      "source": [
        "# train evaluation\n",
        "train_eval = model.evaluate(train_generator)\n",
        "for name, value in zip(model.metrics_names, train_eval):\n",
        "  print(name, ':', round(value, 5))\n",
        "print()"
      ],
      "metadata": {
        "colab": {
          "base_uri": "https://localhost:8080/"
        },
        "id": "fhUB27_S0PBu",
        "outputId": "6131ff7c-e52f-4683-cda8-c86d55b03a1e"
      },
      "execution_count": null,
      "outputs": [
        {
          "output_type": "stream",
          "name": "stdout",
          "text": [
            "72/72 [==============================] - 636s 9s/step - loss: 0.0947 - accuracy: 0.9684\n",
            "loss : 0.09466\n",
            "accuracy : 0.96837\n",
            "\n"
          ]
        }
      ]
    },
    {
      "cell_type": "code",
      "source": [
        "# test evaluation\n",
        "test_eval = model.evaluate(test_generator)\n",
        "for name, value in zip(model.metrics_names, test_eval):\n",
        "  print(name, ':', round(value, 5))\n",
        "print()"
      ],
      "metadata": {
        "colab": {
          "base_uri": "https://localhost:8080/"
        },
        "id": "EWBlA5xBrP3c",
        "outputId": "4b01f1c5-d1e5-432a-e052-eacd592f59c5"
      },
      "execution_count": null,
      "outputs": [
        {
          "output_type": "stream",
          "name": "stdout",
          "text": [
            "8/8 [==============================] - 48s 6s/step - loss: 0.6604 - accuracy: 0.8645\n",
            "loss : 0.6604\n",
            "accuracy : 0.86454\n",
            "\n"
          ]
        }
      ]
    }
  ]
}